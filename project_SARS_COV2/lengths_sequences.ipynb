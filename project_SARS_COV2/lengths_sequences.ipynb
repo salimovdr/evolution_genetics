{
 "cells": [
  {
   "cell_type": "code",
   "execution_count": 14,
   "id": "36ea6cf6",
   "metadata": {},
   "outputs": [
    {
     "name": "stdout",
     "output_type": "stream",
     "text": [
      "N:\n",
      "Минимальная длина: 1101\n",
      "Максимальная длина: 1347\n",
      "Отношение (максимальная/минимальная): 1.223433242506812\n",
      "S:\n",
      "Минимальная длина: 3405\n",
      "Максимальная длина: 4350\n",
      "Отношение (максимальная/минимальная): 1.277533039647577\n"
     ]
    }
   ],
   "source": [
    "for gene in ['N', 'S']:\n",
    "    current_sequence = ''\n",
    "    sequence_lengths = []\n",
    "    with open(f'data/{gene}.fasta', 'r') as file:\n",
    "        for line in file:\n",
    "            line = line.strip()\n",
    "            if not line.startswith('>'):\n",
    "                current_sequence += line\n",
    "            else:\n",
    "                if len(current_sequence) > 0:\n",
    "                    sequence_lengths.append(len(current_sequence))\n",
    "                current_sequence = ''\n",
    "                \n",
    "\n",
    "    min_length = min(sequence_lengths)\n",
    "    max_length = max(sequence_lengths)\n",
    "    ratio = max_length / min_length if min_length > 0 else float('inf')\n",
    "\n",
    "    print(f\"{gene}:\")\n",
    "    print(f\"Минимальная длина: {min_length}\")\n",
    "    print(f\"Максимальная длина: {max_length}\")\n",
    "    print(f\"Отношение (максимальная/минимальная): {ratio}\")\n",
    "\n"
   ]
  },
  {
   "cell_type": "code",
   "execution_count": null,
   "id": "2ca4ed2c",
   "metadata": {},
   "outputs": [],
   "source": []
  }
 ],
 "metadata": {
  "kernelspec": {
   "display_name": "Python 3 (ipykernel)",
   "language": "python",
   "name": "python3"
  },
  "language_info": {
   "codemirror_mode": {
    "name": "ipython",
    "version": 3
   },
   "file_extension": ".py",
   "mimetype": "text/x-python",
   "name": "python",
   "nbconvert_exporter": "python",
   "pygments_lexer": "ipython3",
   "version": "3.9.13"
  }
 },
 "nbformat": 4,
 "nbformat_minor": 5
}
