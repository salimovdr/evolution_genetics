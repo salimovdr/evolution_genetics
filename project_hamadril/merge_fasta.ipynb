{
 "cells": [
  {
   "cell_type": "code",
   "execution_count": 8,
   "id": "275bd058",
   "metadata": {},
   "outputs": [
    {
     "name": "stdout",
     "output_type": "stream",
     "text": [
      "africa4.fasta\n",
      "africa5.fasta\n",
      "asia8.fasta\n",
      "africa1.fasta\n",
      "africa10.fasta\n",
      "asia5.fasta\n",
      "asia9.fasta\n",
      "asia4.fasta\n",
      "asia3.fasta\n",
      "asia7.fasta\n",
      "asia1.fasta\n",
      "asia2.fasta\n",
      "asia10.fasta\n",
      "asia6.fasta\n",
      "africa2.fasta\n",
      "africa7.fasta\n",
      "africa6.fasta\n",
      "africa8.fasta\n",
      "africa3.fasta\n",
      "africa9.fasta\n"
     ]
    }
   ],
   "source": [
    "import os\n",
    "\n",
    "fasta_files = []\n",
    "\n",
    "try:\n",
    "    for file_name in os.listdir('data/'):\n",
    "        print(file_name)\n",
    "        if file_name.endswith('fasta') or file_name.endswith('fa'):\n",
    "            fasta_files.append(os.path.join(f'data/{file_name}'))\n",
    "except:\n",
    "    pass\n",
    "\n",
    "\n",
    "output_file = f\"data/dloop.fasta\"\n",
    "with open(output_file, 'w') as outfile:\n",
    "    for fasta_file in fasta_files:\n",
    "        with open(fasta_file, 'r') as infile:\n",
    "            for line in infile:\n",
    "                if line.startswith('>'):\n",
    "                    file_name = os.path.splitext(os.path.basename(fasta_file))[0]\n",
    "                    outfile.write(f\">{file_name}\\n\")\n",
    "                elif line.strip():\n",
    "                    outfile.write(line)"
   ]
  },
  {
   "cell_type": "code",
   "execution_count": 7,
   "id": "fcab57e4",
   "metadata": {},
   "outputs": [
    {
     "data": {
      "text/plain": [
       "['data/file_name',\n",
       " 'data/file_name',\n",
       " 'data/file_name',\n",
       " 'data/file_name',\n",
       " 'data/file_name',\n",
       " 'data/file_name',\n",
       " 'data/file_name',\n",
       " 'data/file_name',\n",
       " 'data/file_name',\n",
       " 'data/file_name',\n",
       " 'data/file_name',\n",
       " 'data/file_name',\n",
       " 'data/file_name',\n",
       " 'data/file_name',\n",
       " 'data/file_name',\n",
       " 'data/file_name',\n",
       " 'data/file_name',\n",
       " 'data/file_name',\n",
       " 'data/file_name',\n",
       " 'data/file_name',\n",
       " 'data/file_name']"
      ]
     },
     "execution_count": 7,
     "metadata": {},
     "output_type": "execute_result"
    }
   ],
   "source": [
    "fasta_files"
   ]
  },
  {
   "cell_type": "code",
   "execution_count": null,
   "id": "880489f5-e8c6-4902-859e-5741ab9a5fa9",
   "metadata": {},
   "outputs": [],
   "source": []
  }
 ],
 "metadata": {
  "kernelspec": {
   "display_name": "Python 3 (ipykernel)",
   "language": "python",
   "name": "python3"
  },
  "language_info": {
   "codemirror_mode": {
    "name": "ipython",
    "version": 3
   },
   "file_extension": ".py",
   "mimetype": "text/x-python",
   "name": "python",
   "nbconvert_exporter": "python",
   "pygments_lexer": "ipython3",
   "version": "3.12.2"
  }
 },
 "nbformat": 4,
 "nbformat_minor": 5
}
