{
 "cells": [
  {
   "cell_type": "code",
   "execution_count": 2,
   "id": "275bd058",
   "metadata": {},
   "outputs": [],
   "source": [
    "import os\n",
    "\n",
    "folders = [f for f in os.listdir('data/') if os.path.isdir(os.path.join('data/', f))]\n",
    "N_fasta, S_fasta = [], []\n",
    "\n",
    "for folder in folders:\n",
    "    for gene_folder in ['N', 'S']:\n",
    "        folder_path = os.path.join('data', folder, gene_folder)\n",
    "        try:\n",
    "            for file_name in os.listdir(folder_path):\n",
    "                #print(folder_path)\n",
    "                if file_name.endswith('fasta') or file_name.endswith('fa'):\n",
    "                    if gene_folder == 'N':\n",
    "                        N_fasta.append(os.path.join(folder_path, file_name))\n",
    "                    if gene_folder == 'S':\n",
    "                        S_fasta.append(os.path.join(folder_path, file_name))\n",
    "        except:\n",
    "            pass\n",
    "\n",
    "fasta_files = {'N': N_fasta, 'S': S_fasta}   \n",
    "\n",
    "for gene in ['N', 'S']:\n",
    "    output_file = f\"data/{gene}.fasta\"\n",
    "    with open(output_file, 'w') as outfile:\n",
    "        for fasta_file in fasta_files[gene]:\n",
    "            with open(fasta_file, 'r') as infile:\n",
    "                for line in infile:\n",
    "                    if line.startswith('>'):\n",
    "                        file_name = os.path.splitext(os.path.basename(fasta_file))[0]\n",
    "                        outfile.write(f\">{file_name}\\n\")\n",
    "                    elif line.strip():\n",
    "                        outfile.write(line)"
   ]
  },
  {
   "cell_type": "code",
   "execution_count": null,
   "id": "fcab57e4",
   "metadata": {},
   "outputs": [],
   "source": []
  }
 ],
 "metadata": {
  "kernelspec": {
   "display_name": "Python 3 (ipykernel)",
   "language": "python",
   "name": "python3"
  },
  "language_info": {
   "codemirror_mode": {
    "name": "ipython",
    "version": 3
   },
   "file_extension": ".py",
   "mimetype": "text/x-python",
   "name": "python",
   "nbconvert_exporter": "python",
   "pygments_lexer": "ipython3",
   "version": "3.9.13"
  }
 },
 "nbformat": 4,
 "nbformat_minor": 5
}
